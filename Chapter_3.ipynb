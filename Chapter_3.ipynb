{
 "cells": [
  {
   "cell_type": "markdown",
   "metadata": {},
   "source": [
    "# Типы данных и пропущенные значения\n",
    "Одним из важнейших элементов информации DataFrame является тип данных каждого столбца. Каждый столбец pandas  хранит только один тип данных. Для столбцов DataFrame доступно большое количество типов данных. Эта глава рассматривает только наиболее распространенные типы данных и предоставляет краткое описание каждого. Для получения более подробной информации о каждом типе данных см. главу \"Изменение типов данных\" в разделе \"Основные команды\""
   ]
  },
  {
   "cell_type": "markdown",
   "metadata": {},
   "source": [
    "# 3.1 Распространенные типы данных\n",
    "Следующие типы данных являются наиболее распространенными в DataFrame.  \n",
    " - **boolean** – принимает только два возможных значения: **True** или **False**\n",
    " - **integer** – целые числа без десятичных знаков\n",
    " - **float** – числа с десятичными знаками\n",
    " - **object** – обычные строки, но могут содержать другие объекты\n",
    " - **datetime** – конкретные дата и время с наносекудной точностью  \n",
    "   \n",
    "### Подробнее о типе данных object  \n",
    "Тип данных object является самым запутанным и заслуживает детального разбора. Каждое значения столбца данного типа  может быть любым объектом языка Python. Столбец типа object может содержать данные слудующих типов: integer, float, list, dict. Все что угодно может быть записано в такой столбец. Но в большинстве случаев столбцы типа object хранят переменные только типа string. Когда вы видите столбец, хранящий переменные типа object, то вы должны понимать, что значения должны быть типа string. К сожалению, библиотека pandas не предоставляет пользователям специальный тип для строковых переменных. Поэтому, если у вас столбцы содержат строковые переменые, то для них типа данных - object.\n",
    "  \n",
    "### Почему важно знать тип данных\n",
    "Очень важно знать тип данных каждого столбца Вашего датафрейма. Основным поводом для этого является тот факт, что каждое значение столбца имеет один тип. Например, если Вы выберите один столбец, относящийся к типу integer, то гарантируется, что его значения будут целочисленными. Понимание типа данных столбца является одним из базовых шагов в исследовании Вашего датафрейма.\n",
    "  \n",
    "### Исключение для типа данных object\n",
    "К сожалению, тип данных object является исключением по отношению к информации предыдущего пункта. Хотя столбцы типа object в основном содержат переменные типа string, но это не гарантирует того, что все столбцы object содержат переменные типа string. Точно так же Вам могут встретиться данные типа integer, list или даже другой датафрейм в качестве значения в том же столбце объекта.  \n",
    "  \n",
    "# 3.2 Пропущенные значения  \n",
    "**NaN, None, NaT**  \n",
    "Pandas по-разному отображает пропущенные значения в зависимости от типа данных столбца. \n",
    " - **NaN** – Означает \"не число\" и относится к вещественному типу данных\n",
    " - **None** – Литеральный объект Python None и находится только в столбцах типа object  \n",
    " - **NaT** – Означает \"не время\" и применяется для пропущенных значений в столбцах типа datetime  \n",
    "  \n",
    "### Пропущенные значения для каждого типа данных  \n",
    " - **boolean and integer** – Не существует представления отсутствующих значений для логических и целочисленных столбцов. С данным ограничением, к сожалению, приходится мириться.\n",
    " - **float** – Испольнуется **NaN** при пропуске значения\n",
    " - **datetime** – Используется **NaT** при пропуске значения  \n",
    " - **object** – Может содержать различные объекты Python, поэтому могут появиться все три варианта представления пропущенных значений, но обычно встречаются значения **NaN** или **None**  \n",
    "  \n",
    "### Пропущенные значения в столбцах логического и целочисленного типа  \n",
    "Известно, что столбец, являющийся логическим или целочисленным, гарантирует, что отсутствуют пропущенные значения, так как pandas не допускает этого. Например, если вы захотите поместить пропущенное значение в столбец логического или целочисленного типа, то pandas преобразует весь столбец в вещественный тип. Это происходит, потому что только столбец вещественного типа может размещать пропущенные значения. Когда логические переменные преобразуются в вещественные, то **False** заменяется на 0, а **True** заменяется на 1.  \n",
    "\n",
    "# Поиск типа данных каждого столбца\n",
    "Атрибут (не метод) датафрейма **dtypes** возвращает тип данных каждого столбца и является одной из первых запущенных команд после прочтения ваших данных. Начнем с использования функции **read_csv** для чтения набора данных bikes."
   ]
  },
  {
   "cell_type": "code",
   "execution_count": 1,
   "metadata": {},
   "outputs": [
    {
     "data": {
      "text/html": [
       "<div>\n",
       "<style scoped>\n",
       "    .dataframe tbody tr th:only-of-type {\n",
       "        vertical-align: middle;\n",
       "    }\n",
       "\n",
       "    .dataframe tbody tr th {\n",
       "        vertical-align: top;\n",
       "    }\n",
       "\n",
       "    .dataframe thead th {\n",
       "        text-align: right;\n",
       "    }\n",
       "</style>\n",
       "<table border=\"1\" class=\"dataframe\">\n",
       "  <thead>\n",
       "    <tr style=\"text-align: right;\">\n",
       "      <th></th>\n",
       "      <th>trip_id</th>\n",
       "      <th>usertype</th>\n",
       "      <th>gender</th>\n",
       "      <th>starttime</th>\n",
       "      <th>stoptime</th>\n",
       "      <th>tripduration</th>\n",
       "      <th>from_station_name</th>\n",
       "      <th>latitude_start</th>\n",
       "      <th>longitude_start</th>\n",
       "      <th>dpcapacity_start</th>\n",
       "      <th>to_station_name</th>\n",
       "      <th>latitude_end</th>\n",
       "      <th>longitude_end</th>\n",
       "      <th>dpcapacity_end</th>\n",
       "      <th>temperature</th>\n",
       "      <th>visibility</th>\n",
       "      <th>wind_speed</th>\n",
       "      <th>precipitation</th>\n",
       "      <th>events</th>\n",
       "    </tr>\n",
       "  </thead>\n",
       "  <tbody>\n",
       "    <tr>\n",
       "      <th>0</th>\n",
       "      <td>7147</td>\n",
       "      <td>Subscriber</td>\n",
       "      <td>Male</td>\n",
       "      <td>2013-06-28 19:01:00</td>\n",
       "      <td>2013-06-28 19:17:00</td>\n",
       "      <td>993</td>\n",
       "      <td>Lake Shore Dr &amp; Monroe St</td>\n",
       "      <td>41.881050</td>\n",
       "      <td>-87.616970</td>\n",
       "      <td>11.0</td>\n",
       "      <td>Michigan Ave &amp; Oak St</td>\n",
       "      <td>41.900960</td>\n",
       "      <td>-87.623777</td>\n",
       "      <td>15.0</td>\n",
       "      <td>73.9</td>\n",
       "      <td>10.0</td>\n",
       "      <td>12.7</td>\n",
       "      <td>-9999.0</td>\n",
       "      <td>mostlycloudy</td>\n",
       "    </tr>\n",
       "    <tr>\n",
       "      <th>1</th>\n",
       "      <td>7524</td>\n",
       "      <td>Subscriber</td>\n",
       "      <td>Male</td>\n",
       "      <td>2013-06-28 22:53:00</td>\n",
       "      <td>2013-06-28 23:03:00</td>\n",
       "      <td>623</td>\n",
       "      <td>Clinton St &amp; Washington Blvd</td>\n",
       "      <td>41.883380</td>\n",
       "      <td>-87.641170</td>\n",
       "      <td>31.0</td>\n",
       "      <td>Wells St &amp; Walton St</td>\n",
       "      <td>41.899930</td>\n",
       "      <td>-87.634430</td>\n",
       "      <td>19.0</td>\n",
       "      <td>69.1</td>\n",
       "      <td>10.0</td>\n",
       "      <td>6.9</td>\n",
       "      <td>-9999.0</td>\n",
       "      <td>partlycloudy</td>\n",
       "    </tr>\n",
       "    <tr>\n",
       "      <th>2</th>\n",
       "      <td>10927</td>\n",
       "      <td>Subscriber</td>\n",
       "      <td>Male</td>\n",
       "      <td>2013-06-30 14:43:00</td>\n",
       "      <td>2013-06-30 15:01:00</td>\n",
       "      <td>1040</td>\n",
       "      <td>Sheffield Ave &amp; Kingsbury St</td>\n",
       "      <td>41.909592</td>\n",
       "      <td>-87.653497</td>\n",
       "      <td>15.0</td>\n",
       "      <td>Dearborn St &amp; Monroe St</td>\n",
       "      <td>41.881320</td>\n",
       "      <td>-87.629521</td>\n",
       "      <td>23.0</td>\n",
       "      <td>73.0</td>\n",
       "      <td>10.0</td>\n",
       "      <td>16.1</td>\n",
       "      <td>-9999.0</td>\n",
       "      <td>mostlycloudy</td>\n",
       "    </tr>\n",
       "    <tr>\n",
       "      <th>3</th>\n",
       "      <td>12907</td>\n",
       "      <td>Subscriber</td>\n",
       "      <td>Male</td>\n",
       "      <td>2013-07-01 10:05:00</td>\n",
       "      <td>2013-07-01 10:16:00</td>\n",
       "      <td>667</td>\n",
       "      <td>Carpenter St &amp; Huron St</td>\n",
       "      <td>41.894556</td>\n",
       "      <td>-87.653449</td>\n",
       "      <td>19.0</td>\n",
       "      <td>Clark St &amp; Randolph St</td>\n",
       "      <td>41.884576</td>\n",
       "      <td>-87.631890</td>\n",
       "      <td>31.0</td>\n",
       "      <td>72.0</td>\n",
       "      <td>10.0</td>\n",
       "      <td>16.1</td>\n",
       "      <td>-9999.0</td>\n",
       "      <td>mostlycloudy</td>\n",
       "    </tr>\n",
       "    <tr>\n",
       "      <th>4</th>\n",
       "      <td>13168</td>\n",
       "      <td>Subscriber</td>\n",
       "      <td>Male</td>\n",
       "      <td>2013-07-01 11:16:00</td>\n",
       "      <td>2013-07-01 11:18:00</td>\n",
       "      <td>130</td>\n",
       "      <td>Damen Ave &amp; Pierce Ave</td>\n",
       "      <td>41.909396</td>\n",
       "      <td>-87.677692</td>\n",
       "      <td>19.0</td>\n",
       "      <td>Damen Ave &amp; Pierce Ave</td>\n",
       "      <td>41.909396</td>\n",
       "      <td>-87.677692</td>\n",
       "      <td>19.0</td>\n",
       "      <td>73.0</td>\n",
       "      <td>10.0</td>\n",
       "      <td>17.3</td>\n",
       "      <td>-9999.0</td>\n",
       "      <td>partlycloudy</td>\n",
       "    </tr>\n",
       "  </tbody>\n",
       "</table>\n",
       "</div>"
      ],
      "text/plain": [
       "   trip_id    usertype gender            starttime             stoptime  \\\n",
       "0     7147  Subscriber   Male  2013-06-28 19:01:00  2013-06-28 19:17:00   \n",
       "1     7524  Subscriber   Male  2013-06-28 22:53:00  2013-06-28 23:03:00   \n",
       "2    10927  Subscriber   Male  2013-06-30 14:43:00  2013-06-30 15:01:00   \n",
       "3    12907  Subscriber   Male  2013-07-01 10:05:00  2013-07-01 10:16:00   \n",
       "4    13168  Subscriber   Male  2013-07-01 11:16:00  2013-07-01 11:18:00   \n",
       "\n",
       "   tripduration             from_station_name  latitude_start  \\\n",
       "0           993     Lake Shore Dr & Monroe St       41.881050   \n",
       "1           623  Clinton St & Washington Blvd       41.883380   \n",
       "2          1040  Sheffield Ave & Kingsbury St       41.909592   \n",
       "3           667       Carpenter St & Huron St       41.894556   \n",
       "4           130        Damen Ave & Pierce Ave       41.909396   \n",
       "\n",
       "   longitude_start  dpcapacity_start          to_station_name  latitude_end  \\\n",
       "0       -87.616970              11.0    Michigan Ave & Oak St     41.900960   \n",
       "1       -87.641170              31.0     Wells St & Walton St     41.899930   \n",
       "2       -87.653497              15.0  Dearborn St & Monroe St     41.881320   \n",
       "3       -87.653449              19.0   Clark St & Randolph St     41.884576   \n",
       "4       -87.677692              19.0   Damen Ave & Pierce Ave     41.909396   \n",
       "\n",
       "   longitude_end  dpcapacity_end  temperature  visibility  wind_speed  \\\n",
       "0     -87.623777            15.0         73.9        10.0        12.7   \n",
       "1     -87.634430            19.0         69.1        10.0         6.9   \n",
       "2     -87.629521            23.0         73.0        10.0        16.1   \n",
       "3     -87.631890            31.0         72.0        10.0        16.1   \n",
       "4     -87.677692            19.0         73.0        10.0        17.3   \n",
       "\n",
       "   precipitation        events  \n",
       "0        -9999.0  mostlycloudy  \n",
       "1        -9999.0  partlycloudy  \n",
       "2        -9999.0  mostlycloudy  \n",
       "3        -9999.0  mostlycloudy  \n",
       "4        -9999.0  partlycloudy  "
      ]
     },
     "execution_count": 1,
     "metadata": {},
     "output_type": "execute_result"
    }
   ],
   "source": [
    "import pandas as pd\n",
    "bikes = pd.read_csv('../data/bikes.csv')\n",
    "bikes.head()"
   ]
  },
  {
   "cell_type": "markdown",
   "metadata": {},
   "source": [
    "Теперь выведем типы данных каждого столбца нашего датафрейма. Выведенный объект явлется Series со значениями – тип данных; индексом – наименование столбца."
   ]
  },
  {
   "cell_type": "code",
   "execution_count": 2,
   "metadata": {},
   "outputs": [
    {
     "data": {
      "text/plain": [
       "trip_id                int64\n",
       "usertype              object\n",
       "gender                object\n",
       "starttime             object\n",
       "stoptime              object\n",
       "tripduration           int64\n",
       "from_station_name     object\n",
       "latitude_start       float64\n",
       "longitude_start      float64\n",
       "dpcapacity_start     float64\n",
       "to_station_name       object\n",
       "latitude_end         float64\n",
       "longitude_end        float64\n",
       "dpcapacity_end       float64\n",
       "temperature          float64\n",
       "visibility           float64\n",
       "wind_speed           float64\n",
       "precipitation        float64\n",
       "events                object\n",
       "dtype: object"
      ]
     },
     "execution_count": 2,
     "metadata": {},
     "output_type": "execute_result"
    }
   ],
   "source": [
    "bikes.dtypes"
   ]
  },
  {
   "cell_type": "markdown",
   "metadata": {},
   "source": [
    "### Почему столбцы starttime и stoptime относятся к типу данных object?\n",
    "Из только что выведенного на экран датафрейма можно заметить, что пара столбцов **starttime** и **stoptime** содержат данные времени. Но применение атрибута **dtypes** показывает нам, что эти столбцы относятся к типу **object** (то есть время записано в виде строки).  \n",
    "  \n",
    "Функция **read_csv** требует, чтобы вы предварительно предоставили параметру **parse_dates** список столбцов, которые относятся к **datetime**, в противном случае они будут прочитаны как строки. Давайте заново прочтем наши данные с использованием параметра **parse_dates**."
   ]
  },
  {
   "cell_type": "code",
   "execution_count": 3,
   "metadata": {},
   "outputs": [
    {
     "data": {
      "text/plain": [
       "trip_id                       int64\n",
       "usertype                     object\n",
       "gender                       object\n",
       "starttime            datetime64[ns]\n",
       "stoptime             datetime64[ns]\n",
       "tripduration                  int64\n",
       "from_station_name            object\n",
       "latitude_start              float64\n",
       "longitude_start             float64\n",
       "dpcapacity_start            float64\n",
       "to_station_name              object\n",
       "latitude_end                float64\n",
       "longitude_end               float64\n",
       "dpcapacity_end              float64\n",
       "temperature                 float64\n",
       "visibility                  float64\n",
       "wind_speed                  float64\n",
       "precipitation               float64\n",
       "events                       object\n",
       "dtype: object"
      ]
     },
     "execution_count": 3,
     "metadata": {},
     "output_type": "execute_result"
    }
   ],
   "source": [
    "bikes = pd.read_csv('../data/bikes.csv', parse_dates=['starttime', 'stoptime'])\n",
    "bikes.dtypes"
   ]
  },
  {
   "cell_type": "markdown",
   "metadata": {},
   "source": [
    "### Что означает число 64 в конце наименования типа данных?\n",
    "Логические, целочисленные, вещественные и datetime типы данных используют конкретный объем памяти для каждого значения. Память измеряется в битах. Количество бит, используемых для каждого значения, - это число, приписанное в конце названия типа данных. Например, целочисленные значения могут быть представлены в виде 8, 16, 32, 64 бит, тем временем вещественные значения могут быть представлены в виде 16, 32, 64, 128 бит. Тип столбца из 128-ми битных вещественных чисел будет представлен как **float128**.  \n",
    "  \n",
    "Технически **float128** не эквивалентен типу данных **float64**, но, как правило, вам не придется беспокоиться об этом различии, поскольку операции между различными столбцами вещественных чисел будут одинаковыми.  \n",
    "  \n",
    "Логические переменные всегда хранятся в виде 8 бит. Но не задан битовый размер для значений типа object, поэтому каждое значение может быть любого размера."
   ]
  },
  {
   "cell_type": "markdown",
   "metadata": {},
   "source": [
    "# 3.4 Получение большего количества метаданных\n",
    "Про **метаданные** можно сказать, что это данные о данных. Примером метаданных является тип данных каждого столбца. Количество строк и столбцов является еще одним элементом метаданных. Мы вычисляем это с помощью атрибута **shape**, который возвращает кортеж целых чисел. "
   ]
  },
  {
   "cell_type": "code",
   "execution_count": 4,
   "metadata": {},
   "outputs": [
    {
     "data": {
      "text/plain": [
       "(50089, 19)"
      ]
     },
     "execution_count": 4,
     "metadata": {},
     "output_type": "execute_result"
    }
   ],
   "source": [
    "bikes.shape"
   ]
  },
  {
   "cell_type": "markdown",
   "metadata": {},
   "source": [
    "### Вывод общего количества значений с помощью атрибута size\n",
    "Атрибут **size** выводит общее количество значений (число столбцов умноженное на количество строк) датафрейма."
   ]
  },
  {
   "cell_type": "code",
   "execution_count": 5,
   "metadata": {},
   "outputs": [
    {
     "data": {
      "text/plain": [
       "951691"
      ]
     },
     "execution_count": 5,
     "metadata": {},
     "output_type": "execute_result"
    }
   ],
   "source": [
    "bikes.size"
   ]
  },
  {
   "cell_type": "markdown",
   "metadata": {},
   "source": [
    "### Большее количество информации можно получить с помощью метода **info**\n",
    "Метод датафрейма **info** предоставляет аналогичный вывод **dtypes**, а также показывает количество непропущенных  значений в каждом столбце вместе со следующей дополнительной информацией: \n",
    " - Тип объекта (всегда DataFrame)\n",
    " - Тип индекса и количество строк\n",
    " - Количество столбцов\n",
    " - Типы данных каждого столбца и количество непропущенных значений (также называемых ненулевыми)\n",
    " - Количество столбцов различных типов данных\n",
    " - Общий объем импользуемой памяти"
   ]
  },
  {
   "cell_type": "code",
   "execution_count": 6,
   "metadata": {},
   "outputs": [
    {
     "name": "stdout",
     "output_type": "stream",
     "text": [
      "<class 'pandas.core.frame.DataFrame'>\n",
      "RangeIndex: 50089 entries, 0 to 50088\n",
      "Data columns (total 19 columns):\n",
      "trip_id              50089 non-null int64\n",
      "usertype             50089 non-null object\n",
      "gender               50089 non-null object\n",
      "starttime            50089 non-null datetime64[ns]\n",
      "stoptime             50089 non-null datetime64[ns]\n",
      "tripduration         50089 non-null int64\n",
      "from_station_name    50089 non-null object\n",
      "latitude_start       50083 non-null float64\n",
      "longitude_start      50083 non-null float64\n",
      "dpcapacity_start     50083 non-null float64\n",
      "to_station_name      50089 non-null object\n",
      "latitude_end         50077 non-null float64\n",
      "longitude_end        50077 non-null float64\n",
      "dpcapacity_end       50077 non-null float64\n",
      "temperature          50089 non-null float64\n",
      "visibility           50089 non-null float64\n",
      "wind_speed           50089 non-null float64\n",
      "precipitation        50089 non-null float64\n",
      "events               50089 non-null object\n",
      "dtypes: datetime64[ns](2), float64(10), int64(2), object(5)\n",
      "memory usage: 7.3+ MB\n"
     ]
    }
   ],
   "source": [
    "bikes.info()"
   ]
  },
  {
   "cell_type": "markdown",
   "metadata": {},
   "source": [
    "# 3.5 Больше о типах данных\n",
    "В pandas доступно еще несколько типов данных. Более подробное и формальное обсуждение всех типов данных представлено в главе **Изменение типов данных** из части **Основные команды**"
   ]
  },
  {
   "cell_type": "markdown",
   "metadata": {},
   "source": [
    "# 3.6 Задания\n",
    "Используйте датафрейм **bikes** для дальнейших заданий:"
   ]
  },
  {
   "cell_type": "markdown",
   "metadata": {},
   "source": [
    "### Упражнение 1\n",
    "Какого типа будет выведен объект после применения атрибута **dtypes**?"
   ]
  },
  {
   "cell_type": "code",
   "execution_count": 7,
   "metadata": {},
   "outputs": [
    {
     "data": {
      "text/plain": [
       "pandas.core.series.Series"
      ]
     },
     "execution_count": 7,
     "metadata": {},
     "output_type": "execute_result"
    }
   ],
   "source": [
    "type(bikes.dtypes)"
   ]
  },
  {
   "cell_type": "markdown",
   "metadata": {},
   "source": [
    "### Упражнение 2\n",
    "Какого типа будет выведен объект после применения атрибута **shape**?"
   ]
  },
  {
   "cell_type": "code",
   "execution_count": 8,
   "metadata": {},
   "outputs": [
    {
     "data": {
      "text/plain": [
       "tuple"
      ]
     },
     "execution_count": 8,
     "metadata": {},
     "output_type": "execute_result"
    }
   ],
   "source": [
    "type(bikes.shape)"
   ]
  },
  {
   "cell_type": "markdown",
   "metadata": {},
   "source": [
    "### Упражнение 3\n",
    "Какого типа будет выведен объект после применения метода **info**?"
   ]
  },
  {
   "cell_type": "code",
   "execution_count": 9,
   "metadata": {},
   "outputs": [
    {
     "name": "stdout",
     "output_type": "stream",
     "text": [
      "<class 'pandas.core.frame.DataFrame'>\n",
      "RangeIndex: 50089 entries, 0 to 50088\n",
      "Data columns (total 19 columns):\n",
      "trip_id              50089 non-null int64\n",
      "usertype             50089 non-null object\n",
      "gender               50089 non-null object\n",
      "starttime            50089 non-null datetime64[ns]\n",
      "stoptime             50089 non-null datetime64[ns]\n",
      "tripduration         50089 non-null int64\n",
      "from_station_name    50089 non-null object\n",
      "latitude_start       50083 non-null float64\n",
      "longitude_start      50083 non-null float64\n",
      "dpcapacity_start     50083 non-null float64\n",
      "to_station_name      50089 non-null object\n",
      "latitude_end         50077 non-null float64\n",
      "longitude_end        50077 non-null float64\n",
      "dpcapacity_end       50077 non-null float64\n",
      "temperature          50089 non-null float64\n",
      "visibility           50089 non-null float64\n",
      "wind_speed           50089 non-null float64\n",
      "precipitation        50089 non-null float64\n",
      "events               50089 non-null object\n",
      "dtypes: datetime64[ns](2), float64(10), int64(2), object(5)\n",
      "memory usage: 7.3+ MB\n"
     ]
    },
    {
     "data": {
      "text/plain": [
       "NoneType"
      ]
     },
     "execution_count": 9,
     "metadata": {},
     "output_type": "execute_result"
    }
   ],
   "source": [
    "type(bikes.info())"
   ]
  },
  {
   "cell_type": "markdown",
   "metadata": {},
   "source": [
    "### Упражнение 4\n",
    "   Если в датафрейме есть столбцы типа object, то метод **info** некорректно выводит количество используемой памяти. Прочтите докстринг и выведите настоящий объем используемой памяти"
   ]
  },
  {
   "cell_type": "code",
   "execution_count": 10,
   "metadata": {},
   "outputs": [
    {
     "name": "stdout",
     "output_type": "stream",
     "text": [
      "<class 'pandas.core.frame.DataFrame'>\n",
      "RangeIndex: 50089 entries, 0 to 50088\n",
      "Data columns (total 19 columns):\n",
      "trip_id              50089 non-null int64\n",
      "usertype             50089 non-null object\n",
      "gender               50089 non-null object\n",
      "starttime            50089 non-null datetime64[ns]\n",
      "stoptime             50089 non-null datetime64[ns]\n",
      "tripduration         50089 non-null int64\n",
      "from_station_name    50089 non-null object\n",
      "latitude_start       50083 non-null float64\n",
      "longitude_start      50083 non-null float64\n",
      "dpcapacity_start     50083 non-null float64\n",
      "to_station_name      50089 non-null object\n",
      "latitude_end         50077 non-null float64\n",
      "longitude_end        50077 non-null float64\n",
      "dpcapacity_end       50077 non-null float64\n",
      "temperature          50089 non-null float64\n",
      "visibility           50089 non-null float64\n",
      "wind_speed           50089 non-null float64\n",
      "precipitation        50089 non-null float64\n",
      "events               50089 non-null object\n",
      "dtypes: datetime64[ns](2), float64(10), int64(2), object(5)\n",
      "memory usage: 22.4 MB\n"
     ]
    }
   ],
   "source": [
    "bikes.info(memory_usage='deep')"
   ]
  }
 ],
 "metadata": {
  "kernelspec": {
   "display_name": "Python 3",
   "language": "python",
   "name": "python3"
  },
  "language_info": {
   "codemirror_mode": {
    "name": "ipython",
    "version": 3
   },
   "file_extension": ".py",
   "mimetype": "text/x-python",
   "name": "python",
   "nbconvert_exporter": "python",
   "pygments_lexer": "ipython3",
   "version": "3.7.1"
  }
 },
 "nbformat": 4,
 "nbformat_minor": 2
}
